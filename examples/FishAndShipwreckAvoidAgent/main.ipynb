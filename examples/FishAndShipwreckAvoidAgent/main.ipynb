{
 "cells": [
  {
   "cell_type": "code",
   "execution_count": 1,
   "metadata": {},
   "outputs": [
    {
     "name": "stdout",
     "output_type": "stream",
     "text": [
      "EXAMPLE_DIR:  /Users/kandai/Documents/projects/research/regret_synthesis_toolbox/examples/FishAndShipwreckAvoidAgent\n",
      "PROJECT_DIR:  /Users/kandai/Documents/projects/research/regret_synthesis_toolbox\n"
     ]
    }
   ],
   "source": [
    "import os\n",
    "EXAMPLE_DIR = os.getcwd()\n",
    "os.chdir(os.path.join('..', '..'))\n",
    "PROJECT_DIR = os.getcwd()\n",
    "print('EXAMPLE_DIR: ', EXAMPLE_DIR)\n",
    "print('PROJECT_DIR: ', PROJECT_DIR)"
   ]
  },
  {
   "cell_type": "code",
   "execution_count": 2,
   "metadata": {},
   "outputs": [],
   "source": [
    "%load_ext autoreload\n",
    "%autoreload 2\n",
    "import gym\n",
    "from IPython.display import Video, display\n",
    "\n",
    "import sys\n",
    "import time\n",
    "import numpy as np\n",
    "from pathlib import Path\n",
    "\n",
    "sys.path.append(os.path.join(PROJECT_DIR, 'src'))\n",
    "from src.graph import Graph\n",
    "from src.graph import graph_factory\n",
    "from src.config import ROOT_PATH\n",
    "from src.strategy_synthesis.multiobjective_solver import MultiObjectiveSolver\n",
    "from src.simulation.simulator import Simulator\n",
    "\n",
    "sys.path.append(os.path.join(PROJECT_DIR, 'wombats'))\n",
    "from wombats.systems.minigrid import GYM_MONITOR_LOG_DIR_NAME\n",
    "from wombats.systems.minigrid import DynamicMinigrid2PGameWrapper, MultiAgentMiniGridEnv\n",
    "\n",
    "DIR = EXAMPLE_DIR\n",
    "Graph.graph_dir = DIR"
   ]
  },
  {
   "cell_type": "code",
   "execution_count": 3,
   "metadata": {},
   "outputs": [],
   "source": [
    "debug = True\n",
    "\n",
    "env_id = 'MiniGrid-FishAndShipwreckAvoidAgent-v0'\n",
    "pdfa_config_yaml=\"config/PDFA_Fish_and_Shipwreck\"\n",
    "player_steps = {'sys': [1, 3], 'env': [1]}\n",
    "\n",
    "load_game_from_file = False\n",
    "plot_minigrid = False\n",
    "plot_pdfa = True\n",
    "plot_product = False\n",
    "finite = True\n",
    "view = True\n",
    "save_flag = True\n",
    "format = 'png'\n",
    "\n",
    "stochastic = False\n",
    "adversarial = True\n",
    "plot_strategies=False\n",
    "plot_graph_with_strategy = False\n",
    "plot_graph_with_pareto = False\n",
    "plot_pareto = True\n",
    "speedup = True\n",
    "\n",
    "env_filename = os.path.join(DIR, 'plots', 'gym_env.png')\n",
    "Path(os.path.split(env_filename)[0]).mkdir(parents=True, exist_ok=True)\n",
    "env_dpi = 300"
   ]
  },
  {
   "cell_type": "code",
   "execution_count": 4,
   "metadata": {},
   "outputs": [
    {
     "name": "stdout",
     "output_type": "stream",
     "text": [
      "/Users/kandai/Documents/projects/research/regret_synthesis_toolbox/examples/FishAndShipwreckAvoidAgent/plots/pdfa.png\n"
     ]
    },
    {
     "data": {
      "image/png": "[encoded data removed]",
      "text/plain": [
       "<IPython.core.display.Image object>"
      ]
     },
     "metadata": {},
     "output_type": "display_data"
    }
   ],
   "source": [
    "# PDFA\n",
    "pdfa = graph_factory.get(\n",
    "    'PDFA',\n",
    "    graph_name=\"pdfa\",\n",
    "    config_yaml=pdfa_config_yaml,\n",
    "    save_flag=save_flag,\n",
    "    plot=plot_pdfa,\n",
    "    view=view,\n",
    "    format=format)"
   ]
  },
  {
   "cell_type": "code",
   "execution_count": 5,
   "metadata": {},
   "outputs": [
    {
     "name": "stderr",
     "output_type": "stream",
     "text": [
      "/Users/kandai/.pyenv/versions/anaconda3-5.3.0/envs/adam_can_play_any_strategy/lib/python3.8/site-packages/gym/wrappers/monitor.py:31: UserWarning: The Monitor wrapper is being deprecated in favor of gym.wrappers.RecordVideo and gym.wrappers.RecordEpisodeStatistics (see https://github.com/openai/gym/issues/2297)\n",
      "  warnings.warn(\n"
     ]
    },
    {
     "data": {
      "image/png": "[encoded data removed]",
      "text/plain": [
       "<Figure size 432x288 with 1 Axes>"
      ]
     },
     "metadata": {
      "needs_background": "light"
     },
     "output_type": "display_data"
    }
   ],
   "source": [
    "\n",
    "# OpenAI Minigrid Env\n",
    "env = gym.make(env_id)\n",
    "env = DynamicMinigrid2PGameWrapper(\n",
    "        env,\n",
    "        player_steps=player_steps,\n",
    "        monitor_log_location=os.path.join(DIR, GYM_MONITOR_LOG_DIR_NAME))\n",
    "env.reset()\n",
    "env.render_notebook(env_filename, env_dpi)"
   ]
  },
  {
   "cell_type": "code",
   "execution_count": 7,
   "metadata": {},
   "outputs": [
    {
     "name": "stdout",
     "output_type": "stream",
     "text": [
      "/Users/kandai/Documents/projects/research/regret_synthesis_toolbox/examples/FishAndShipwreckAvoidAgent/examples/FishAndShipwreckAvoidAgent/config/MiniGrid-FishAndShipwreckAvoidAgent-v0Game.yaml\n"
     ]
    }
   ],
   "source": [
    "file_name = env_id + 'Game'\n",
    "filepath = os.path.join(DIR, 'config', file_name)\n",
    "config_yaml = os.path.relpath(filepath, ROOT_PATH)\n",
    "\n",
    "# Game Construction\n",
    "start = time.time()\n",
    "two_player_graph = graph_factory.get('TwoPlayerGraph',\n",
    "                            graph_name='TwoPlayerGame',\n",
    "                            config_yaml=config_yaml,\n",
    "                            from_file=load_game_from_file,\n",
    "                            minigrid=env,\n",
    "                            save_flag=save_flag,\n",
    "                            plot=plot_minigrid,\n",
    "                            view=view,\n",
    "                            format=format)\n",
    "end = time.time()"
   ]
  },
  {
   "cell_type": "code",
   "execution_count": 8,
   "metadata": {},
   "outputs": [
    {
     "name": "stderr",
     "output_type": "stream",
     "text": [
      "[autoreload of wombats.systems.minigrid failed: Traceback (most recent call last):\n",
      "  File \"/Users/kandai/.pyenv/versions/anaconda3-5.3.0/envs/adam_can_play_any_strategy/lib/python3.8/site-packages/IPython/extensions/autoreload.py\", line 245, in check\n",
      "    superreload(m, reload, self.old_objects)\n",
      "  File \"/Users/kandai/.pyenv/versions/anaconda3-5.3.0/envs/adam_can_play_any_strategy/lib/python3.8/site-packages/IPython/extensions/autoreload.py\", line 394, in superreload\n",
      "    module = reload(module)\n",
      "  File \"/Users/kandai/.pyenv/versions/anaconda3-5.3.0/envs/adam_can_play_any_strategy/lib/python3.8/imp.py\", line 314, in reload\n",
      "    return importlib.reload(module)\n",
      "  File \"/Users/kandai/.pyenv/versions/anaconda3-5.3.0/envs/adam_can_play_any_strategy/lib/python3.8/importlib/__init__.py\", line 169, in reload\n",
      "    _bootstrap._exec(spec, module)\n",
      "  File \"<frozen importlib._bootstrap>\", line 604, in _exec\n",
      "  File \"<frozen importlib._bootstrap_external>\", line 783, in exec_module\n",
      "  File \"<frozen importlib._bootstrap>\", line 219, in _call_with_frames_removed\n",
      "  File \"/Users/kandai/Documents/projects/research/regret_synthesis_toolbox/wombats/systems/minigrid.py\", line 4337, in <module>\n",
      "    register(\n",
      "  File \"/Users/kandai/.pyenv/versions/anaconda3-5.3.0/envs/adam_can_play_any_strategy/lib/python3.8/site-packages/gym_minigrid/register.py\", line 11, in register\n",
      "    assert id not in env_list\n",
      "AssertionError\n",
      "]\n"
     ]
    },
    {
     "name": "stdout",
     "output_type": "stream",
     "text": [
      "Product Construction took 11.11 seconds\n"
     ]
    }
   ],
   "source": [
    "# Product Game Construction\n",
    "file_name = env_id + 'ProductAutomaton'\n",
    "# config_yaml = os.path.join(DIR, 'config', file_name)\n",
    "config_yaml = None\n",
    "\n",
    "start = time.time()\n",
    "game = graph_factory.get('ProductGraph',\n",
    "    graph_name='ProductAutomaton',\n",
    "    config_yaml=config_yaml,\n",
    "    trans_sys=two_player_graph,\n",
    "    automaton=pdfa,\n",
    "    save_flag=True,\n",
    "    prune=False,\n",
    "    debug=False,\n",
    "    absorbing=True,\n",
    "    finite=finite,\n",
    "    plot=plot_product,\n",
    "    integrate_accepting=True,\n",
    "    view=view,\n",
    "    format=format)\n",
    "end = time.time()\n",
    "print(f'Product Construction took {end-start:.2f} seconds')"
   ]
  },
  {
   "cell_type": "code",
   "execution_count": 9,
   "metadata": {},
   "outputs": [
    {
     "name": "stdout",
     "output_type": "stream",
     "text": [
      "15626 nodes and 151747 edges\n",
      "1th Iteration took 50.27 seconds\n",
      "2th Iteration took 97.48 seconds\n",
      "3th Iteration took 147.91 seconds\n",
      "4th Iteration took 152.85 seconds\n",
      "5th Iteration took 219.92 seconds\n",
      "6th Iteration took 231.77 seconds\n",
      "7th Iteration took 158.58 seconds\n",
      "8th Iteration took 177.67 seconds\n",
      "9th Iteration took 174.29 seconds\n",
      "10th Iteration took 170.31 seconds\n",
      "11th Iteration took 183.83 seconds\n",
      "12th Iteration took 206.05 seconds\n",
      "13th Iteration took 191.70 seconds\n",
      "14th Iteration took 196.23 seconds\n",
      "15th Iteration took 207.19 seconds\n",
      "16th Iteration took 177.33 seconds\n",
      "Pareto Points Computation took 2761.01 seconds\n"
     ]
    },
    {
     "data": {
      "image/png": "[encoded data removed]",
      "text/plain": [
       "<Figure size 432x288 with 1 Axes>"
      ]
     },
     "metadata": {
      "needs_background": "light"
     },
     "output_type": "display_data"
    },
    {
     "data": {
      "text/plain": [
       "(array([[46.        , 31.51401394],\n",
       "        [40.        , 40.72435432],\n",
       "        [59.        , 20.013511  ],\n",
       "        [34.        , 49.93469469],\n",
       "        [52.        , 24.61868118],\n",
       "        [72.        , 19.3813479 ],\n",
       "        [58.        , 24.19723912],\n",
       "        [65.        , 19.59206894]]),\n",
       " {(46.0,\n",
       "   31.514013943789994): <src.prism.strategy.DeterministicStrategy at 0x7faedecd6490>,\n",
       "  (40.0,\n",
       "   40.72435431576617): <src.prism.strategy.DeterministicStrategy at 0x7faed980f370>,\n",
       "  (59.0,\n",
       "   20.013510998818315): <src.prism.strategy.DeterministicStrategy at 0x7faed980f130>,\n",
       "  (34.0,\n",
       "   49.93469468774234): <src.prism.strategy.DeterministicStrategy at 0x7faed980f250>,\n",
       "  (52.0,\n",
       "   24.61868118480641): <src.prism.strategy.DeterministicStrategy at 0x7faed97d90a0>,\n",
       "  (72.0,\n",
       "   19.381347904871358): <src.prism.strategy.DeterministicStrategy at 0x7faed980f910>,\n",
       "  (58.0,\n",
       "   24.197239122175105): <src.prism.strategy.DeterministicStrategy at 0x7faed980eac0>,\n",
       "  (65.0,\n",
       "   19.59206893618701): <src.prism.strategy.DeterministicStrategy at 0x7faed980e640>})"
      ]
     },
     "execution_count": 9,
     "metadata": {},
     "output_type": "execute_result"
    }
   ],
   "source": [
    "solver = MultiObjectiveSolver(game,\n",
    "                            epsilon=1e-5,\n",
    "                            max_iteration=300,\n",
    "                            stochastic=stochastic,\n",
    "                            adversarial=adversarial)\n",
    "solver.solve(plot_strategies=plot_strategies,\n",
    "                plot_graph_with_strategy=plot_graph_with_strategy,\n",
    "                plot_graph_with_pareto=plot_graph_with_pareto,\n",
    "                plot_pareto=plot_pareto,\n",
    "                speedup=speedup,\n",
    "                debug=debug,\n",
    "                view=view,\n",
    "                format=format)"
   ]
  },
  {
   "cell_type": "code",
   "execution_count": 10,
   "metadata": {},
   "outputs": [
    {
     "name": "stdout",
     "output_type": "stream",
     "text": [
      "----------------------------------------------------------------------------------------------------\n",
      "Evaluate for a pareto point [46.         31.51401394]\n",
      "----------------------------------------------------------------------------------------------------\n",
      "Maximum Costs [46.         27.11956479]\n",
      "Observation {('agent_blue_right', 'agent_blue_right', 'floor_green_open'): 1}\n",
      "----------------------------------------------------------------------------------------------------\n",
      "Evaluate for a pareto point [40.         40.72435432]\n",
      "----------------------------------------------------------------------------------------------------\n",
      "Maximum Costs [40.         36.32990516]\n",
      "Observation {('agent_blue_right', 'floor_green_open'): 1}\n",
      "----------------------------------------------------------------------------------------------------\n",
      "Evaluate for a pareto point [59.       20.013511]\n",
      "----------------------------------------------------------------------------------------------------\n",
      "Maximum Costs [59.       20.013511]\n",
      "Observation {('floor_green_open', 'floor_green_open', 'agent_blue_right'): 1}\n",
      "----------------------------------------------------------------------------------------------------\n",
      "Evaluate for a pareto point [34.         49.93469469]\n",
      "----------------------------------------------------------------------------------------------------\n",
      "Maximum Costs [33.         40.93507535]\n",
      "Observation {('agent_blue_right', 'agent_blue_right', 'floor_green_open'): 1}\n",
      "----------------------------------------------------------------------------------------------------\n",
      "Evaluate for a pareto point [52.         24.61868118]\n",
      "----------------------------------------------------------------------------------------------------\n",
      "Maximum Costs [52.         24.61868118]\n",
      "Observation {('floor_green_open', 'floor_green_open', 'agent_blue_right'): 1}\n",
      "----------------------------------------------------------------------------------------------------\n",
      "Evaluate for a pareto point [72.        19.3813479]\n",
      "----------------------------------------------------------------------------------------------------\n",
      "Maximum Costs [63.         19.17062687]\n",
      "Observation {('floor_green_open', 'floor_green_open', 'agent_blue_right'): 1}\n",
      "----------------------------------------------------------------------------------------------------\n",
      "Evaluate for a pareto point [58.         24.19723912]\n",
      "----------------------------------------------------------------------------------------------------\n",
      "Maximum Costs [50.         24.19723912]\n",
      "Observation {('floor_green_open', 'floor_green_open', 'agent_blue_right'): 1}\n",
      "----------------------------------------------------------------------------------------------------\n",
      "Evaluate for a pareto point [65.         19.59206894]\n",
      "----------------------------------------------------------------------------------------------------\n",
      "Maximum Costs [65.         19.59206894]\n",
      "Observation {('floor_green_open', 'floor_green_open', 'agent_blue_right'): 1}\n"
     ]
    }
   ],
   "source": [
    "iterations = 100\n",
    "iterations = 1\n",
    "\n",
    "for pp in solver.get_pareto_points():\n",
    "        strategy = solver.get_a_strategy_for(pp)\n",
    "\n",
    "        print('-'*100)\n",
    "        print(f\"Evaluate for a pareto point {pp}\")\n",
    "        print('-'*100)\n",
    "\n",
    "        sim = Simulator(env, game)\n",
    "        sim.run(iterations=iterations,\n",
    "                sys_strategy=strategy,\n",
    "                render=False,\n",
    "                record_video=iterations<=15)\n",
    "        sim.get_stats()\n",
    "        # sim.plot_grid()"
   ]
  },
  {
   "cell_type": "code",
   "execution_count": 11,
   "metadata": {},
   "outputs": [
    {
     "data": {
      "image/png": "[encoded data removed]",
      "text/plain": [
       "<Figure size 432x288 with 1 Axes>"
      ]
     },
     "metadata": {
      "needs_background": "light"
     },
     "output_type": "display_data"
    }
   ],
   "source": [
    "import matplotlib.pyplot as plt\n",
    "costs = []\n",
    "for result in sim._results:\n",
    "    costs.append(result['Cost'])\n",
    "\n",
    "costs = np.array(costs)\n",
    "\n",
    "fig = plt.figure()\n",
    "ax = fig.add_subplot(111)\n",
    "ax.scatter(costs[:, 0], costs[:, 1])\n",
    "\n",
    "solver.plot_pareto_front(ax)"
   ]
  },
  {
   "cell_type": "markdown",
   "metadata": {},
   "source": [
    "# Evaluation"
   ]
  },
  {
   "cell_type": "code",
   "execution_count": null,
   "metadata": {},
   "outputs": [
    {
     "name": "stdout",
     "output_type": "stream",
     "text": [
      "[('north',), ('south',), ('east',), ('west',), ('north', 'north', 'north'), ('north', 'north', 'south'), ('north', 'north', 'east'), ('north', 'north', 'west'), ('north', 'south', 'north'), ('north', 'south', 'south'), ('north', 'south', 'east'), ('north', 'south', 'west'), ('north', 'east', 'north'), ('north', 'east', 'south'), ('north', 'east', 'east'), ('north', 'east', 'west'), ('north', 'west', 'north'), ('north', 'west', 'south'), ('north', 'west', 'east'), ('north', 'west', 'west'), ('south', 'north', 'north'), ('south', 'north', 'south'), ('south', 'north', 'east'), ('south', 'north', 'west'), ('south', 'south', 'north'), ('south', 'south', 'south'), ('south', 'south', 'east'), ('south', 'south', 'west'), ('south', 'east', 'north'), ('south', 'east', 'south'), ('south', 'east', 'east'), ('south', 'east', 'west'), ('south', 'west', 'north'), ('south', 'west', 'south'), ('south', 'west', 'east'), ('south', 'west', 'west'), ('east', 'north', 'north'), ('east', 'north', 'south'), ('east', 'north', 'east'), ('east', 'north', 'west'), ('east', 'south', 'north'), ('east', 'south', 'south'), ('east', 'south', 'east'), ('east', 'south', 'west'), ('east', 'east', 'north'), ('east', 'east', 'south'), ('east', 'east', 'east'), ('east', 'east', 'west'), ('east', 'west', 'north'), ('east', 'west', 'south'), ('east', 'west', 'east'), ('east', 'west', 'west'), ('west', 'north', 'north'), ('west', 'north', 'south'), ('west', 'north', 'east'), ('west', 'north', 'west'), ('west', 'south', 'north'), ('west', 'south', 'south'), ('west', 'south', 'east'), ('west', 'south', 'west'), ('west', 'east', 'north'), ('west', 'east', 'south'), ('west', 'east', 'east'), ('west', 'east', 'west'), ('west', 'west', 'north'), ('west', 'west', 'south'), ('west', 'west', 'east'), ('west', 'west', 'west')]\n",
      "[(('north',), ()), (('south',), ()), (('east',), ()), (('west',), ()), ((), ('north',)), ((), ('south',)), ((), ('east',)), ((), ('west',))]\n"
     ]
    }
   ],
   "source": [
    "# TODO: FIX THIS SHIT\n",
    "\n",
    "player = 'sys'\n",
    "SYS_ACTIONS = []\n",
    "for multiactions in env.player_actions[player]:\n",
    "    action_strings = []\n",
    "    for agent, actions in zip(env.unwrapped.agents, multiactions):\n",
    "        action_string = []\n",
    "        for action in actions:\n",
    "            if action is None or np.isnan(action):\n",
    "                continue\n",
    "            a_str = agent.ACTION_ENUM_TO_STR[action]\n",
    "            action_string.append(a_str)\n",
    "        action_strings.append(tuple(action_string))\n",
    "    action_strs = action_strings[0] if player == 'sys' else action_strings[1:]\n",
    "    SYS_ACTIONS.append(tuple(action_strs))\n",
    "\n",
    "player = 'env'\n",
    "ENV_ACTIONS = []\n",
    "for multiactions in env.player_actions[player]:\n",
    "    action_strings = []\n",
    "    for agent, actions in zip(env.unwrapped.agents, multiactions):\n",
    "        action_string = []\n",
    "        for action in actions:\n",
    "            if action is None or np.isnan(action):\n",
    "                continue\n",
    "            a_str = agent.ACTION_ENUM_TO_STR[action]\n",
    "            action_string.append(a_str)\n",
    "        action_strings.append(tuple(action_string))\n",
    "    action_strs = action_strings[0] if player == 'sys' else action_strings[1:]\n",
    "    ENV_ACTIONS.append(tuple(action_strs))\n",
    "\n",
    "print(SYS_ACTIONS)\n",
    "print(ENV_ACTIONS)"
   ]
  },
  {
   "cell_type": "code",
   "execution_count": null,
   "metadata": {},
   "outputs": [
    {
     "ename": "Exception",
     "evalue": "No more actions to take",
     "output_type": "error",
     "traceback": [
      "\u001b[0;31m---------------------------------------------------------------------------\u001b[0m",
      "\u001b[0;31mException\u001b[0m                                 Traceback (most recent call last)",
      "\u001b[0;32m/var/folders/_v/ysqp9jdn0b13r224ls1fhf_40000gn/T/ipykernel_29792/2086035778.py\u001b[0m in \u001b[0;36m<module>\u001b[0;34m\u001b[0m\n\u001b[1;32m     23\u001b[0m \u001b[0;34m\u001b[0m\u001b[0m\n\u001b[1;32m     24\u001b[0m \u001b[0msim\u001b[0m \u001b[0;34m=\u001b[0m \u001b[0mSimulator\u001b[0m\u001b[0;34m(\u001b[0m\u001b[0menv\u001b[0m\u001b[0;34m,\u001b[0m \u001b[0mgame\u001b[0m\u001b[0;34m)\u001b[0m\u001b[0;34m\u001b[0m\u001b[0;34m\u001b[0m\u001b[0m\n\u001b[0;32m---> 25\u001b[0;31m sim.run_turn_based_game(\n\u001b[0m\u001b[1;32m     26\u001b[0m     \u001b[0msys_actions\u001b[0m\u001b[0;34m=\u001b[0m\u001b[0msys_actions\u001b[0m\u001b[0;34m,\u001b[0m\u001b[0;34m\u001b[0m\u001b[0;34m\u001b[0m\u001b[0m\n\u001b[1;32m     27\u001b[0m     \u001b[0;31m# env_actions=env_actions,\u001b[0m\u001b[0;34m\u001b[0m\u001b[0;34m\u001b[0m\u001b[0;34m\u001b[0m\u001b[0m\n",
      "\u001b[0;32m~/Documents/projects/research/regret_synthesis_toolbox/src/simulation/simulator.py\u001b[0m in \u001b[0;36mrun_turn_based_game\u001b[0;34m(self, sys_strategy, sys_actions, env_strategy, env_actions, render, record_video, adversarial)\u001b[0m\n\u001b[1;32m    115\u001b[0m \u001b[0;34m\u001b[0m\u001b[0m\n\u001b[1;32m    116\u001b[0m             \u001b[0;31m# System's Action\u001b[0m\u001b[0;34m\u001b[0m\u001b[0;34m\u001b[0m\u001b[0;34m\u001b[0m\u001b[0m\n\u001b[0;32m--> 117\u001b[0;31m             \u001b[0msys_action\u001b[0m\u001b[0;34m,\u001b[0m \u001b[0menv_state\u001b[0m \u001b[0;34m=\u001b[0m \u001b[0msys_strategy\u001b[0m\u001b[0;34m.\u001b[0m\u001b[0mstep\u001b[0m\u001b[0;34m(\u001b[0m\u001b[0menv_state\u001b[0m\u001b[0;34m,\u001b[0m \u001b[0menv_action\u001b[0m\u001b[0;34m,\u001b[0m \u001b[0msys_state\u001b[0m\u001b[0;34m)\u001b[0m\u001b[0;34m\u001b[0m\u001b[0;34m\u001b[0m\u001b[0m\n\u001b[0m\u001b[1;32m    118\u001b[0m             \u001b[0;31m# Use env_state that the system chose and not from the game.\u001b[0m\u001b[0;34m\u001b[0m\u001b[0;34m\u001b[0m\u001b[0;34m\u001b[0m\u001b[0m\n\u001b[1;32m    119\u001b[0m             \u001b[0m_\u001b[0m\u001b[0;34m,\u001b[0m \u001b[0mobs\u001b[0m\u001b[0;34m,\u001b[0m \u001b[0mcost\u001b[0m\u001b[0;34m,\u001b[0m \u001b[0mdone\u001b[0m \u001b[0;34m=\u001b[0m \u001b[0mself\u001b[0m\u001b[0;34m.\u001b[0m\u001b[0m_game\u001b[0m\u001b[0;34m.\u001b[0m\u001b[0mstep\u001b[0m\u001b[0;34m(\u001b[0m\u001b[0msys_state\u001b[0m\u001b[0;34m,\u001b[0m \u001b[0msys_action\u001b[0m\u001b[0;34m,\u001b[0m \u001b[0menv_state\u001b[0m\u001b[0;34m)\u001b[0m\u001b[0;34m\u001b[0m\u001b[0;34m\u001b[0m\u001b[0m\n",
      "\u001b[0;32m~/Documents/projects/research/regret_synthesis_toolbox/src/prism/strategy.py\u001b[0m in \u001b[0;36mstep\u001b[0;34m(self, prev_state, prev_action, curr_state)\u001b[0m\n\u001b[1;32m    162\u001b[0m             \u001b[0;32mreturn\u001b[0m \u001b[0maction\u001b[0m\u001b[0;34m,\u001b[0m \u001b[0mself\u001b[0m\u001b[0;34m.\u001b[0m\u001b[0m_game\u001b[0m\u001b[0;34m.\u001b[0m\u001b[0mstep\u001b[0m\u001b[0;34m(\u001b[0m\u001b[0mcurr_state\u001b[0m\u001b[0;34m,\u001b[0m \u001b[0maction\u001b[0m\u001b[0;34m)\u001b[0m\u001b[0;34m[\u001b[0m\u001b[0;36m0\u001b[0m\u001b[0;34m]\u001b[0m\u001b[0;34m\u001b[0m\u001b[0;34m\u001b[0m\u001b[0m\n\u001b[1;32m    163\u001b[0m         \u001b[0;32melse\u001b[0m\u001b[0;34m:\u001b[0m\u001b[0;34m\u001b[0m\u001b[0;34m\u001b[0m\u001b[0m\n\u001b[0;32m--> 164\u001b[0;31m             \u001b[0;32mraise\u001b[0m \u001b[0mException\u001b[0m\u001b[0;34m(\u001b[0m\u001b[0;34m'No more actions to take'\u001b[0m\u001b[0;34m)\u001b[0m\u001b[0;34m\u001b[0m\u001b[0;34m\u001b[0m\u001b[0m\n\u001b[0m\u001b[1;32m    165\u001b[0m \u001b[0;34m\u001b[0m\u001b[0m\n\u001b[1;32m    166\u001b[0m \u001b[0;34m\u001b[0m\u001b[0m\n",
      "\u001b[0;31mException\u001b[0m: No more actions to take"
     ]
    }
   ],
   "source": [
    "pp = solver.get_pareto_points()[0]\n",
    "strategy = solver.get_a_strategy_for(pp)\n",
    "\n",
    "# Goes into Water \n",
    "sys_actions = [\n",
    "    SYS_ACTIONS[2], \n",
    "    SYS_ACTIONS[2], \n",
    "    SYS_ACTIONS[2], \n",
    "    SYS_ACTIONS[0], \n",
    "    SYS_ACTIONS[2], \n",
    "    SYS_ACTIONS[2],\n",
    "    SYS_ACTIONS[1], \n",
    "    SYS_ACTIONS[2], \n",
    "    SYS_ACTIONS[2],\n",
    "    SYS_ACTIONS[0],\n",
    "    SYS_ACTIONS[0],\n",
    "    SYS_ACTIONS[0],\n",
    "    SYS_ACTIONS[2],\n",
    "    SYS_ACTIONS[1],\n",
    "    SYS_ACTIONS[1],\n",
    "    SYS_ACTIONS[1],\n",
    "    ]\n",
    "\n",
    "sim = Simulator(env, game)\n",
    "sim.run_turn_based_game(\n",
    "    sys_actions=sys_actions,\n",
    "    # env_actions=env_actions,\n",
    "    render=False,\n",
    "    record_video=True)\n",
    "sim.get_stats()"
   ]
  },
  {
   "cell_type": "code",
   "execution_count": null,
   "metadata": {},
   "outputs": [
    {
     "name": "stdout",
     "output_type": "stream",
     "text": [
      "Maximum Costs [54.          4.35169905]\n",
      "Observation {('floor_green_open',): 1}\n"
     ]
    }
   ],
   "source": [
    "env_actions = [\n",
    "    ENV_ACTIONS[3], \n",
    "    ENV_ACTIONS[1], \n",
    "    ENV_ACTIONS[3], \n",
    "    ENV_ACTIONS[2], \n",
    "    ENV_ACTIONS[2], \n",
    "    ENV_ACTIONS[2],\n",
    "    ENV_ACTIONS[2],\n",
    "    ENV_ACTIONS[2],\n",
    "    ENV_ACTIONS[1],\n",
    "    ENV_ACTIONS[1],\n",
    "    ENV_ACTIONS[1],\n",
    "    ENV_ACTIONS[1],\n",
    "    ENV_ACTIONS[1],\n",
    "    ENV_ACTIONS[1],\n",
    "    ENV_ACTIONS[1],\n",
    "    ENV_ACTIONS[1],\n",
    "    ]\n",
    "\n",
    "sim = Simulator(env, game)\n",
    "sim.run_turn_based_game(\n",
    "    sys_strategy=strategy,\n",
    "    env_actions=env_actions,\n",
    "    render=False,\n",
    "    record_video=True)\n",
    "sim.get_stats()"
   ]
  },
  {
   "cell_type": "code",
   "execution_count": null,
   "metadata": {},
   "outputs": [],
   "source": []
  }
 ],
 "metadata": {
  "interpreter": {
   "hash": "205187ef9479737b1a3abc6a1cf975973bd7269e141ef6b92118c5b5e5152f10"
  },
  "kernelspec": {
   "display_name": "Python 3.8.5 64-bit (conda)",
   "name": "python3"
  },
  "language_info": {
   "codemirror_mode": {
    "name": "ipython",
    "version": 3
   },
   "file_extension": ".py",
   "mimetype": "text/x-python",
   "name": "python",
   "nbconvert_exporter": "python",
   "pygments_lexer": "ipython3",
   "version": "3.8.5"
  }
 },
 "nbformat": 4,
 "nbformat_minor": 2
}
