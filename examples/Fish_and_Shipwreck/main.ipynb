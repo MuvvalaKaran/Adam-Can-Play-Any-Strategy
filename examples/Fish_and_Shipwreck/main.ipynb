{
 "cells": [
  {
   "cell_type": "code",
   "execution_count": 1,
   "metadata": {},
   "outputs": [
    {
     "name": "stdout",
     "output_type": "stream",
     "text": [
      "EXAMPLE_DIR:  /Users/kandai/Documents/projects/research/regret_synthesis_toolbox/examples/Fish_and_Shipwreck\n",
      "PROJECT_DIR:  /Users/kandai/Documents/projects/research/regret_synthesis_toolbox\n"
     ]
    }
   ],
   "source": [
    "import os\n",
    "EXAMPLE_DIR = os.getcwd()\n",
    "os.chdir(os.path.join('..', '..'))\n",
    "PROJECT_DIR = os.getcwd()\n",
    "print('EXAMPLE_DIR: ', EXAMPLE_DIR)\n",
    "print('PROJECT_DIR: ', PROJECT_DIR)"
   ]
  },
  {
   "cell_type": "code",
   "execution_count": 2,
   "metadata": {},
   "outputs": [],
   "source": [
    "%load_ext autoreload\n",
    "%autoreload 2\n",
    "import gym\n",
    "from IPython.display import Video, display\n",
    "\n",
    "import sys\n",
    "import time\n",
    "import numpy as np\n",
    "from pathlib import Path\n",
    "\n",
    "sys.path.append(os.path.join(PROJECT_DIR, 'src'))\n",
    "from src.graph import Graph\n",
    "from src.graph import graph_factory\n",
    "from src.config import ROOT_PATH\n",
    "from src.strategy_synthesis import MultiObjectiveSolver\n",
    "from src.simulation.simulator import Simulator\n",
    "\n",
    "sys.path.append(os.path.join(PROJECT_DIR, 'wombats'))\n",
    "from wombats.systems.minigrid import GYM_MONITOR_LOG_DIR_NAME\n",
    "from wombats.systems.minigrid import DynamicMinigrid2PGameWrapper, MultiAgentMiniGridEnv\n",
    "\n",
    "DIR = EXAMPLE_DIR\n",
    "Graph.graph_dir = DIR"
   ]
  },
  {
   "cell_type": "code",
   "execution_count": 3,
   "metadata": {},
   "outputs": [],
   "source": [
    "debug = True\n",
    "\n",
    "# env_id = 'MiniGrid-FourGrids-v0'\n",
    "# env_id = 'MiniGrid-ChasingAgent-v0'\n",
    "# env_id = 'MiniGrid-ChasingAgentInSquare4by4-v0'\n",
    "# env_id = 'MiniGrid-ChasingAgentInSquare3by3-v0'\n",
    "env_id = 'MiniGrid-ChasingAgentIn4Square-v0'\n",
    "pdfa_config_yaml=\"config/PDFA_Fish_and_Shipwreck\"\n",
    "player_steps = {'sys': [1, 2], 'env': [1]}\n",
    "\n",
    "load_game_from_file = False\n",
    "plot_minigrid = False\n",
    "plot_pdfa = True\n",
    "plot_product = False\n",
    "finite = True\n",
    "view = True\n",
    "save_flag = True\n",
    "format = 'png'\n",
    "\n",
    "stochastic = False\n",
    "adversarial = True\n",
    "plot_strategies=False\n",
    "plot_graph_with_strategy = False\n",
    "plot_graph_with_pareto = False\n",
    "plot_pareto = True\n",
    "speedup = True\n",
    "\n",
    "env_filename = os.path.join(DIR, 'plots', 'gym_env.png')\n",
    "Path(os.path.split(env_filename)[0]).mkdir(parents=True, exist_ok=True)\n",
    "env_dpi = 300"
   ]
  },
  {
   "cell_type": "code",
   "execution_count": 4,
   "metadata": {},
   "outputs": [
    {
     "name": "stdout",
     "output_type": "stream",
     "text": [
      "[Errno 2] No such file or directory: '/Users/kandai/Documents/projects/research/regret_synthesis_toolbox/examples/Fish_and_Shipwreck/config/PDFA_Fish_and_Shipwreck.yaml'\n",
      "The file config/PDFA_Fish_and_Shipwreck.yaml does not exist\n"
     ]
    },
    {
     "ename": "UnboundLocalError",
     "evalue": "local variable 'graph_data' referenced before assignment",
     "output_type": "error",
     "traceback": [
      "\u001b[0;31m---------------------------------------------------------------------------\u001b[0m",
      "\u001b[0;31mUnboundLocalError\u001b[0m                         Traceback (most recent call last)",
      "\u001b[0;32m/var/folders/_v/ysqp9jdn0b13r224ls1fhf_40000gn/T/ipykernel_86902/2133483329.py\u001b[0m in \u001b[0;36m<module>\u001b[0;34m\u001b[0m\n\u001b[1;32m      1\u001b[0m \u001b[0;31m# PDFA\u001b[0m\u001b[0;34m\u001b[0m\u001b[0;34m\u001b[0m\u001b[0;34m\u001b[0m\u001b[0m\n\u001b[0;32m----> 2\u001b[0;31m pdfa = graph_factory.get(\n\u001b[0m\u001b[1;32m      3\u001b[0m     \u001b[0;34m'PDFA'\u001b[0m\u001b[0;34m,\u001b[0m\u001b[0;34m\u001b[0m\u001b[0;34m\u001b[0m\u001b[0m\n\u001b[1;32m      4\u001b[0m     \u001b[0mgraph_name\u001b[0m\u001b[0;34m=\u001b[0m\u001b[0;34m\"pdfa\"\u001b[0m\u001b[0;34m,\u001b[0m\u001b[0;34m\u001b[0m\u001b[0;34m\u001b[0m\u001b[0m\n\u001b[1;32m      5\u001b[0m     \u001b[0mconfig_yaml\u001b[0m\u001b[0;34m=\u001b[0m\u001b[0mpdfa_config_yaml\u001b[0m\u001b[0;34m,\u001b[0m\u001b[0;34m\u001b[0m\u001b[0;34m\u001b[0m\u001b[0m\n",
      "\u001b[0;32m~/Documents/projects/research/regret_synthesis_toolbox/src/graph/factory.py\u001b[0m in \u001b[0;36mget\u001b[0;34m(self, graph_format, **config_data)\u001b[0m\n\u001b[1;32m     18\u001b[0m         \"\"\"\n\u001b[1;32m     19\u001b[0m \u001b[0;34m\u001b[0m\u001b[0m\n\u001b[0;32m---> 20\u001b[0;31m         \u001b[0;32mreturn\u001b[0m \u001b[0mself\u001b[0m\u001b[0;34m.\u001b[0m\u001b[0mcreate\u001b[0m\u001b[0;34m(\u001b[0m\u001b[0mgraph_format\u001b[0m\u001b[0;34m,\u001b[0m \u001b[0;34m**\u001b[0m\u001b[0mconfig_data\u001b[0m\u001b[0;34m)\u001b[0m\u001b[0;34m\u001b[0m\u001b[0;34m\u001b[0m\u001b[0m\n\u001b[0m",
      "\u001b[0;32m~/Documents/projects/research/regret_synthesis_toolbox/src/factory/object_factory.py\u001b[0m in \u001b[0;36mcreate\u001b[0;34m(self, key, **kwargs)\u001b[0m\n\u001b[1;32m     38\u001b[0m             \u001b[0;32mraise\u001b[0m \u001b[0mValueError\u001b[0m\u001b[0;34m(\u001b[0m\u001b[0mkey\u001b[0m\u001b[0;34m)\u001b[0m\u001b[0;34m\u001b[0m\u001b[0;34m\u001b[0m\u001b[0m\n\u001b[1;32m     39\u001b[0m \u001b[0;34m\u001b[0m\u001b[0m\n\u001b[0;32m---> 40\u001b[0;31m         \u001b[0;32mreturn\u001b[0m \u001b[0mbuilder\u001b[0m\u001b[0;34m(\u001b[0m\u001b[0;34m**\u001b[0m\u001b[0mkwargs\u001b[0m\u001b[0;34m)\u001b[0m\u001b[0;34m\u001b[0m\u001b[0;34m\u001b[0m\u001b[0m\n\u001b[0m",
      "\u001b[0;32m~/Documents/projects/research/regret_synthesis_toolbox/src/graph/pdfa.py\u001b[0m in \u001b[0;36m__call__\u001b[0;34m(self, graph_name, config_yaml, save_flag, sc_ltl, use_alias, plot, view, format)\u001b[0m\n\u001b[1;32m    180\u001b[0m                                   use_alias=use_alias)\n\u001b[1;32m    181\u001b[0m \u001b[0;34m\u001b[0m\u001b[0m\n\u001b[0;32m--> 182\u001b[0;31m         \u001b[0mself\u001b[0m\u001b[0;34m.\u001b[0m\u001b[0m_instance\u001b[0m\u001b[0;34m.\u001b[0m\u001b[0mconstruct_graph\u001b[0m\u001b[0;34m(\u001b[0m\u001b[0mplot\u001b[0m\u001b[0;34m=\u001b[0m\u001b[0mplot\u001b[0m\u001b[0;34m,\u001b[0m \u001b[0mview\u001b[0m\u001b[0;34m=\u001b[0m\u001b[0mview\u001b[0m\u001b[0;34m,\u001b[0m \u001b[0mformat\u001b[0m\u001b[0;34m=\u001b[0m\u001b[0mformat\u001b[0m\u001b[0;34m)\u001b[0m\u001b[0;34m\u001b[0m\u001b[0;34m\u001b[0m\u001b[0m\n\u001b[0m\u001b[1;32m    183\u001b[0m \u001b[0;34m\u001b[0m\u001b[0m\n\u001b[1;32m    184\u001b[0m         \u001b[0;32mreturn\u001b[0m \u001b[0mself\u001b[0m\u001b[0;34m.\u001b[0m\u001b[0m_instance\u001b[0m\u001b[0;34m\u001b[0m\u001b[0;34m\u001b[0m\u001b[0m\n",
      "\u001b[0;32m~/Documents/projects/research/regret_synthesis_toolbox/src/graph/pdfa.py\u001b[0m in \u001b[0;36mconstruct_graph\u001b[0;34m(self, plot, **kwargs)\u001b[0m\n\u001b[1;32m     31\u001b[0m \u001b[0;34m\u001b[0m\u001b[0m\n\u001b[1;32m     32\u001b[0m         \u001b[0;31m# Read yaml file and load to self._graph_yaml\u001b[0m\u001b[0;34m\u001b[0m\u001b[0;34m\u001b[0m\u001b[0;34m\u001b[0m\u001b[0m\n\u001b[0;32m---> 33\u001b[0;31m         \u001b[0mself\u001b[0m\u001b[0;34m.\u001b[0m\u001b[0mread_yaml_file\u001b[0m\u001b[0;34m(\u001b[0m\u001b[0;34m)\u001b[0m\u001b[0;34m\u001b[0m\u001b[0;34m\u001b[0m\u001b[0m\n\u001b[0m\u001b[1;32m     34\u001b[0m \u001b[0;34m\u001b[0m\u001b[0m\n\u001b[1;32m     35\u001b[0m         \u001b[0mself\u001b[0m\u001b[0;34m.\u001b[0m\u001b[0m_construct_pdfa\u001b[0m\u001b[0;34m(\u001b[0m\u001b[0mself\u001b[0m\u001b[0;34m.\u001b[0m\u001b[0m_graph_yaml\u001b[0m\u001b[0;34m)\u001b[0m\u001b[0;34m\u001b[0m\u001b[0;34m\u001b[0m\u001b[0m\n",
      "\u001b[0;32m~/Documents/projects/research/regret_synthesis_toolbox/src/graph/base.py\u001b[0m in \u001b[0;36mread_yaml_file\u001b[0;34m(self)\u001b[0m\n\u001b[1;32m     88\u001b[0m                 \u001b[0mprint\u001b[0m\u001b[0;34m(\u001b[0m\u001b[0;34mf\"The file {file_name} does not exist\"\u001b[0m\u001b[0;34m)\u001b[0m\u001b[0;34m\u001b[0m\u001b[0;34m\u001b[0m\u001b[0m\n\u001b[1;32m     89\u001b[0m \u001b[0;34m\u001b[0m\u001b[0m\n\u001b[0;32m---> 90\u001b[0;31m             \u001b[0mself\u001b[0m\u001b[0;34m.\u001b[0m\u001b[0m_graph_yaml\u001b[0m \u001b[0;34m=\u001b[0m \u001b[0mgraph_data\u001b[0m\u001b[0;34m\u001b[0m\u001b[0;34m\u001b[0m\u001b[0m\n\u001b[0m\u001b[1;32m     91\u001b[0m \u001b[0;34m\u001b[0m\u001b[0m\n\u001b[1;32m     92\u001b[0m     def save_dot_graph(self, dot_object: Digraph, graph_name: str, view: bool = False,\n",
      "\u001b[0;31mUnboundLocalError\u001b[0m: local variable 'graph_data' referenced before assignment"
     ]
    }
   ],
   "source": [
    "# PDFA\n",
    "pdfa = graph_factory.get(\n",
    "    'PDFA',\n",
    "    graph_name=\"pdfa\",\n",
    "    config_yaml=pdfa_config_yaml,\n",
    "    save_flag=save_flag,\n",
    "    plot=plot_pdfa,\n",
    "    view=view,\n",
    "    format=format)"
   ]
  },
  {
   "cell_type": "code",
   "execution_count": 5,
   "metadata": {},
   "outputs": [
    {
     "name": "stderr",
     "output_type": "stream",
     "text": [
      "/Users/kandai/.pyenv/versions/anaconda3-5.3.0/envs/adam_can_play_any_strategy/lib/python3.8/site-packages/gym/wrappers/monitor.py:31: UserWarning: The Monitor wrapper is being deprecated in favor of gym.wrappers.RecordVideo and gym.wrappers.RecordEpisodeStatistics (see https://github.com/openai/gym/issues/2297)\n",
      "  warnings.warn(\n"
     ]
    },
    {
     "data": {
      "image/png": "[encoded data removed]",
      "text/plain": [
       "<Figure size 432x288 with 1 Axes>"
      ]
     },
     "metadata": {
      "needs_background": "light"
     },
     "output_type": "display_data"
    }
   ],
   "source": [
    "\n",
    "# OpenAI Minigrid Env\n",
    "env = gym.make(env_id)\n",
    "env = DynamicMinigrid2PGameWrapper(\n",
    "        env,\n",
    "        player_steps=player_steps,\n",
    "        monitor_log_location=os.path.join(DIR, GYM_MONITOR_LOG_DIR_NAME))\n",
    "env.reset()\n",
    "env.render_notebook(env_filename, env_dpi)"
   ]
  },
  {
   "cell_type": "code",
   "execution_count": 6,
   "metadata": {},
   "outputs": [
    {
     "name": "stdout",
     "output_type": "stream",
     "text": [
      "('sys', ((1, 1), 'right'), ((5, 1), 'right'))\n",
      "{'observation': set(), 'player': 'sys'}\n",
      "('env', ((1, 1), 'right'), ((5, 1), 'right'))\n",
      "{'observation': set(), 'player': 'env'}\n"
     ]
    }
   ],
   "source": [
    "file_name = env_id + 'Game'\n",
    "filepath = os.path.join(DIR, 'config', file_name)\n",
    "config_yaml = os.path.relpath(filepath, ROOT_PATH)\n",
    "\n",
    "# Game Construction\n",
    "start = time.time()\n",
    "two_player_graph = graph_factory.get('TwoPlayerGraph',\n",
    "                            graph_name='TwoPlayerGame',\n",
    "                            config_yaml=config_yaml,\n",
    "                            from_file=load_game_from_file,\n",
    "                            minigrid=env,\n",
    "                            save_flag=save_flag,\n",
    "                            plot=plot_minigrid,\n",
    "                            view=view,\n",
    "                            format=format)\n",
    "end = time.time()"
   ]
  },
  {
   "cell_type": "code",
   "execution_count": 7,
   "metadata": {},
   "outputs": [
    {
     "name": "stdout",
     "output_type": "stream",
     "text": [
      "Product Construction took 1.87 seconds\n"
     ]
    }
   ],
   "source": [
    "# Product Game Construction\n",
    "file_name = env_id + 'ProductAutomaton'\n",
    "# config_yaml = os.path.join(DIR, 'config', file_name)\n",
    "config_yaml = None\n",
    "\n",
    "start = time.time()\n",
    "game = graph_factory.get('ProductGraph',\n",
    "    graph_name='ProductAutomaton',\n",
    "    config_yaml=config_yaml,\n",
    "    trans_sys=two_player_graph,\n",
    "    automaton=pdfa,\n",
    "    save_flag=True,\n",
    "    prune=False,\n",
    "    debug=False,\n",
    "    absorbing=True,\n",
    "    finite=finite,\n",
    "    plot=plot_product,\n",
    "    integrate_accepting=True,\n",
    "    view=view,\n",
    "    format=format)\n",
    "end = time.time()\n",
    "print(f'Product Construction took {end-start:.2f} seconds')"
   ]
  },
  {
   "cell_type": "code",
   "execution_count": 8,
   "metadata": {},
   "outputs": [
    {
     "name": "stdout",
     "output_type": "stream",
     "text": [
      "2548 nodes and 16269 edges\n",
      "1th Iteration took 3.33 seconds\n",
      "2th Iteration took 5.78 seconds\n",
      "3th Iteration took 9.31 seconds\n",
      "4th Iteration took 18.35 seconds\n",
      "5th Iteration took 17.09 seconds\n",
      "6th Iteration took 18.09 seconds\n",
      "7th Iteration took 12.37 seconds\n",
      "8th Iteration took 13.31 seconds\n",
      "9th Iteration took 15.09 seconds\n",
      "10th Iteration took 15.29 seconds\n",
      "11th Iteration took 19.06 seconds\n",
      "12th Iteration took 20.47 seconds\n",
      "Pareto Points Computation took 170.62 seconds\n"
     ]
    },
    {
     "data": {
      "image/png": "[encoded data removed]",
      "text/plain": [
       "<Figure size 432x288 with 1 Axes>"
      ]
     },
     "metadata": {
      "needs_background": "light"
     },
     "output_type": "display_data"
    },
    {
     "data": {
      "text/plain": [
       "(array([[26.        , 10.5924496 ],\n",
       "        [18.        , 17.27706132],\n",
       "        [22.        , 15.40834081],\n",
       "        [20.        , 17.06634029],\n",
       "        [28.        , 10.38172856],\n",
       "        [24.        , 10.80317063]]),\n",
       " {(26.0,\n",
       "   10.59244959552648): <src.prism.strategy.DeterministicStrategy at 0x7fbd65e565b0>,\n",
       "  (18.0,\n",
       "   17.277061323194406): <src.prism.strategy.DeterministicStrategy at 0x7fbd649353d0>,\n",
       "  (22.0,\n",
       "   15.408340812830223): <src.prism.strategy.DeterministicStrategy at 0x7fbd64935dc0>,\n",
       "  (20.0,\n",
       "   17.066340291878753): <src.prism.strategy.DeterministicStrategy at 0x7fbd64935a00>,\n",
       "  (28.0,\n",
       "   10.381728564210828): <src.prism.strategy.DeterministicStrategy at 0x7fbd612c2d90>,\n",
       "  (24.0,\n",
       "   10.803170626842133): <src.prism.strategy.DeterministicStrategy at 0x7fbd65ab21f0>})"
      ]
     },
     "execution_count": 8,
     "metadata": {},
     "output_type": "execute_result"
    }
   ],
   "source": [
    "solver = MultiObjectiveSolver(game,\n",
    "                            epsilon=1e-7,\n",
    "                            max_iteration=300,\n",
    "                            stochastic=stochastic,\n",
    "                            adversarial=adversarial)\n",
    "solver.solve(plot_strategies=plot_strategies,\n",
    "                plot_graph_with_strategy=plot_graph_with_strategy,\n",
    "                plot_graph_with_pareto=plot_graph_with_pareto,\n",
    "                plot_pareto=plot_pareto,\n",
    "                speedup=speedup,\n",
    "                debug=debug,\n",
    "                view=view,\n",
    "                format=format)"
   ]
  },
  {
   "cell_type": "code",
   "execution_count": 9,
   "metadata": {},
   "outputs": [
    {
     "name": "stdout",
     "output_type": "stream",
     "text": [
      "----------------------------------------------------------------------------------------------------\n",
      "Evaluate for a pareto point [26.        10.5924496]\n",
      "----------------------------------------------------------------------------------------------------\n",
      "Maximum Costs [18.         10.17100753]\n",
      "Observation {('floor_green_open', 'floor_green_open', 'agent_blue_right'): 1}\n"
     ]
    },
    {
     "data": {
      "image/png": "[encoded data removed]",
      "text/plain": [
       "<Figure size 432x288 with 1 Axes>"
      ]
     },
     "metadata": {
      "needs_background": "light"
     },
     "output_type": "display_data"
    },
    {
     "name": "stdout",
     "output_type": "stream",
     "text": [
      "----------------------------------------------------------------------------------------------------\n",
      "Evaluate for a pareto point [18.         17.27706132]\n",
      "----------------------------------------------------------------------------------------------------\n",
      "Maximum Costs [18.         17.27706132]\n",
      "Observation {('agent_blue_right', 'agent_blue_right', 'agent_blue_right', 'agent_blue_right', 'floor_green_open'): 1}\n"
     ]
    },
    {
     "data": {
      "image/png": "[encoded data removed]",
      "text/plain": [
       "<Figure size 432x288 with 1 Axes>"
      ]
     },
     "metadata": {
      "needs_background": "light"
     },
     "output_type": "display_data"
    },
    {
     "name": "stdout",
     "output_type": "stream",
     "text": [
      "----------------------------------------------------------------------------------------------------\n",
      "Evaluate for a pareto point [22.         15.40834081]\n",
      "----------------------------------------------------------------------------------------------------\n",
      "Maximum Costs [16.         14.77617772]\n",
      "Observation {('floor_green_open', 'floor_green_open', 'agent_blue_right'): 1}\n"
     ]
    },
    {
     "data": {
      "image/png": "[encoded data removed]",
      "text/plain": [
       "<Figure size 432x288 with 1 Axes>"
      ]
     },
     "metadata": {
      "needs_background": "light"
     },
     "output_type": "display_data"
    },
    {
     "name": "stdout",
     "output_type": "stream",
     "text": [
      "----------------------------------------------------------------------------------------------------\n",
      "Evaluate for a pareto point [20.         17.06634029]\n",
      "----------------------------------------------------------------------------------------------------\n",
      "Maximum Costs [14.         12.67189114]\n",
      "Observation {('agent_blue_right', 'agent_blue_right', 'floor_green_open'): 1}\n"
     ]
    },
    {
     "data": {
      "image/png": "[encoded data removed]",
      "text/plain": [
       "<Figure size 432x288 with 1 Axes>"
      ]
     },
     "metadata": {
      "needs_background": "light"
     },
     "output_type": "display_data"
    },
    {
     "name": "stdout",
     "output_type": "stream",
     "text": [
      "----------------------------------------------------------------------------------------------------\n",
      "Evaluate for a pareto point [28.         10.38172856]\n",
      "----------------------------------------------------------------------------------------------------\n",
      "Maximum Costs [24.         10.17100753]\n",
      "Observation {('floor_green_open', 'floor_green_open', 'agent_blue_right'): 1}\n"
     ]
    },
    {
     "data": {
      "image/png": "[encoded data removed]",
      "text/plain": [
       "<Figure size 432x288 with 1 Axes>"
      ]
     },
     "metadata": {
      "needs_background": "light"
     },
     "output_type": "display_data"
    },
    {
     "name": "stdout",
     "output_type": "stream",
     "text": [
      "----------------------------------------------------------------------------------------------------\n",
      "Evaluate for a pareto point [24.         10.80317063]\n",
      "----------------------------------------------------------------------------------------------------\n",
      "Maximum Costs [19.         10.38172856]\n",
      "Observation {('floor_green_open', 'floor_green_open', 'agent_blue_right'): 1}\n"
     ]
    },
    {
     "data": {
      "image/png": "[encoded data removed]",
      "text/plain": [
       "<Figure size 432x288 with 1 Axes>"
      ]
     },
     "metadata": {
      "needs_background": "light"
     },
     "output_type": "display_data"
    }
   ],
   "source": [
    "iterations = 100\n",
    "iterations = 1\n",
    "\n",
    "for pp in solver.get_pareto_points():\n",
    "        strategy = solver.get_a_strategy_for(pp)\n",
    "\n",
    "        print('-'*100)\n",
    "        print(f\"Evaluate for a pareto point {pp}\")\n",
    "        print('-'*100)\n",
    "\n",
    "        sim = Simulator(env, game)\n",
    "        sim.run(iterations=iterations,\n",
    "                sys_strategy=strategy,\n",
    "                render=False,\n",
    "                record_video=iterations<=5)\n",
    "        sim.get_stats()\n",
    "        sim.plot_grid()"
   ]
  },
  {
   "cell_type": "code",
   "execution_count": 10,
   "metadata": {},
   "outputs": [
    {
     "data": {
      "image/png": "[encoded data removed]",
      "text/plain": [
       "<Figure size 432x288 with 1 Axes>"
      ]
     },
     "metadata": {
      "needs_background": "light"
     },
     "output_type": "display_data"
    }
   ],
   "source": [
    "import matplotlib.pyplot as plt\n",
    "costs = []\n",
    "for result in sim._results:\n",
    "    costs.append(result['Cost'])\n",
    "\n",
    "costs = np.array(costs)\n",
    "\n",
    "fig = plt.figure()\n",
    "ax = fig.add_subplot(111)\n",
    "ax.scatter(costs[:, 0], costs[:, 1])\n",
    "\n",
    "solver.plot_pareto_front(ax)"
   ]
  },
  {
   "cell_type": "markdown",
   "metadata": {},
   "source": [
    "# Evaluation"
   ]
  },
  {
   "cell_type": "code",
   "execution_count": 11,
   "metadata": {},
   "outputs": [
    {
     "name": "stdout",
     "output_type": "stream",
     "text": [
      "[('north',), ('south',), ('east',), ('west',), ('north', 'north'), ('north', 'south'), ('north', 'east'), ('north', 'west'), ('south', 'north'), ('south', 'south'), ('south', 'east'), ('south', 'west'), ('east', 'north'), ('east', 'south'), ('east', 'east'), ('east', 'west'), ('west', 'north'), ('west', 'south'), ('west', 'east'), ('west', 'west')]\n",
      "[(('north',),), (('south',),), (('east',),), (('west',),)]\n"
     ]
    }
   ],
   "source": [
    "# TODO: FIX THIS SHIT\n",
    "\n",
    "player = 'sys'\n",
    "SYS_ACTIONS = []\n",
    "for multiactions in env.player_actions[player]:\n",
    "    action_strings = []\n",
    "    for agent, actions in zip(env.unwrapped.agents, multiactions):\n",
    "        action_string = []\n",
    "        for action in actions:\n",
    "            if action is None or np.isnan(action):\n",
    "                continue\n",
    "            a_str = agent.ACTION_ENUM_TO_STR[action]\n",
    "            action_string.append(a_str)\n",
    "        action_strings.append(tuple(action_string))\n",
    "    action_strs = action_strings[0] if player == 'sys' else action_strings[1:]\n",
    "    SYS_ACTIONS.append(tuple(action_strs))\n",
    "\n",
    "player = 'env'\n",
    "ENV_ACTIONS = []\n",
    "for multiactions in env.player_actions[player]:\n",
    "    action_strings = []\n",
    "    for agent, actions in zip(env.unwrapped.agents, multiactions):\n",
    "        action_string = []\n",
    "        for action in actions:\n",
    "            if action is None or np.isnan(action):\n",
    "                continue\n",
    "            a_str = agent.ACTION_ENUM_TO_STR[action]\n",
    "            action_string.append(a_str)\n",
    "        action_strings.append(tuple(action_string))\n",
    "    action_strs = action_strings[0] if player == 'sys' else action_strings[1:]\n",
    "    ENV_ACTIONS.append(tuple(action_strs))\n",
    "\n",
    "print(SYS_ACTIONS)\n",
    "print(ENV_ACTIONS)"
   ]
  },
  {
   "cell_type": "code",
   "execution_count": 12,
   "metadata": {},
   "outputs": [
    {
     "name": "stdout",
     "output_type": "stream",
     "text": [
      "Maximum Costs [24.         10.27636805]\n",
      "Observation {('floor_green_open', 'floor_green_open', 'agent_blue_right'): 1}\n"
     ]
    }
   ],
   "source": [
    "pp = solver.get_pareto_points()[0]\n",
    "strategy = solver.get_a_strategy_for(pp)\n",
    "\n",
    "sys_actions = [SYS_ACTIONS[9], \n",
    "               SYS_ACTIONS[9], \n",
    "               SYS_ACTIONS[14], \n",
    "               SYS_ACTIONS[4], \n",
    "               SYS_ACTIONS[14], \n",
    "               SYS_ACTIONS[4]]\n",
    "\n",
    "env_actions = [ENV_ACTIONS[1], \n",
    "               ENV_ACTIONS[0], \n",
    "               ENV_ACTIONS[3], \n",
    "               ENV_ACTIONS[2], \n",
    "               ENV_ACTIONS[1], \n",
    "               ENV_ACTIONS[0]]\n",
    "\n",
    "sim = Simulator(env, game)\n",
    "sim.run_turn_based_game(\n",
    "    sys_actions=sys_actions,\n",
    "    env_actions=env_actions,\n",
    "    render=False,\n",
    "    record_video=True)\n",
    "sim.get_stats()"
   ]
  },
  {
   "cell_type": "code",
   "execution_count": null,
   "metadata": {},
   "outputs": [],
   "source": []
  },
  {
   "cell_type": "code",
   "execution_count": 13,
   "metadata": {},
   "outputs": [
    {
     "name": "stdout",
     "output_type": "stream",
     "text": [
      "2548 nodes and 16269 edges\n",
      "1th Iteration took 5.33 seconds\n",
      "2th Iteration took 13.88 seconds\n",
      "3th Iteration took 16.66 seconds\n",
      "4th Iteration took 20.38 seconds\n",
      "5th Iteration took 25.75 seconds\n",
      "6th Iteration took 22.20 seconds\n",
      "7th Iteration took 19.84 seconds\n",
      "Pareto Points Computation took 129.08 seconds\n"
     ]
    },
    {
     "data": {
      "image/png": "[encoded data removed]",
      "text/plain": [
       "<Figure size 432x288 with 1 Axes>"
      ]
     },
     "metadata": {
      "needs_background": "light"
     },
     "output_type": "display_data"
    },
    {
     "data": {
      "text/plain": [
       "(array([[14.        ,  9.9602865 ],\n",
       "        [ 9.        , 14.56545669],\n",
       "        [11.        , 10.06564702],\n",
       "        [ 8.        , 14.86911571],\n",
       "        [16.        ,  9.85492599],\n",
       "        [ 6.        , 19.06526636]]),\n",
       " {(14.0,\n",
       "   9.960286501579523): <src.prism.strategy.DeterministicStrategy at 0x7fbd65e2f040>,\n",
       "  (9.0,\n",
       "   14.565456687567613): <src.prism.strategy.DeterministicStrategy at 0x7fbd65e2f340>,\n",
       "  (11.0,\n",
       "   10.06564701723735): <src.prism.strategy.DeterministicStrategy at 0x7fbd65e2fb20>,\n",
       "  (8.0,\n",
       "   14.869115714542534): <src.prism.strategy.DeterministicStrategy at 0x7fbd63de72e0>,\n",
       "  (16.0,\n",
       "   9.854925985921696): <src.prism.strategy.DeterministicStrategy at 0x7fbd612d72b0>,\n",
       "  (6.0,\n",
       "   19.06526635789788): <src.prism.strategy.DeterministicStrategy at 0x7fbd64293be0>})"
      ]
     },
     "execution_count": 13,
     "metadata": {},
     "output_type": "execute_result"
    }
   ],
   "source": [
    "adversarial = False\n",
    "\n",
    "cooperative_solver = MultiObjectiveSolver(game,\n",
    "                            epsilon=1e-7,\n",
    "                            max_iteration=300,\n",
    "                            stochastic=stochastic,\n",
    "                            adversarial=adversarial)\n",
    "cooperative_solver.solve(plot_strategies=plot_strategies,\n",
    "                plot_graph_with_strategy=plot_graph_with_strategy,\n",
    "                plot_graph_with_pareto=plot_graph_with_pareto,\n",
    "                plot_pareto=plot_pareto,\n",
    "                speedup=speedup,\n",
    "                debug=debug,\n",
    "                view=view,\n",
    "                format=format)"
   ]
  },
  {
   "cell_type": "code",
   "execution_count": 14,
   "metadata": {},
   "outputs": [
    {
     "name": "stdout",
     "output_type": "stream",
     "text": [
      "----------------------------------------------------------------------------------------------------\n",
      "Evaluate for a pareto point [14.         9.9602865]\n",
      "----------------------------------------------------------------------------------------------------\n",
      "/Users/kandai/Documents/projects/research/regret_synthesis_toolbox/examples/Fish_and_Shipwreck/minigrid_env_logs/openaigym.video.13.49043.video000012.mp4\n",
      "{'Cost': array([14.       ,  9.9602865]), 'Observation': ['floor_green_open', 'floor_green_open', 'agent_blue_right'], 'SysActions': [('south', 'south'), ('south', 'south'), ('north',), ('north',), ('east', 'east')], 'EnvActions': [(('south',),), (('south',),), (('west',),), (('west',),)], 'SysPlay': array([[0., 0., 0., 0., 0., 0., 0.],\n",
      "       [0., 1., 0., 2., 1., 1., 0.],\n",
      "       [0., 0., 0., 0., 0., 0., 0.],\n",
      "       [0., 0., 0., 1., 0., 0., 0.],\n",
      "       [0., 0., 0., 0., 0., 0., 0.],\n",
      "       [0., 0., 0., 0., 0., 0., 0.],\n",
      "       [0., 0., 0., 0., 0., 0., 0.]])}\n",
      "Maximum Costs [14.         9.9602865]\n",
      "Observation {('floor_green_open', 'floor_green_open', 'agent_blue_right'): 1}\n",
      "None\n",
      "----------------------------------------------------------------------------------------------------\n",
      "Evaluate for a pareto point [ 9.         14.56545669]\n",
      "----------------------------------------------------------------------------------------------------\n",
      "/Users/kandai/Documents/projects/research/regret_synthesis_toolbox/examples/Fish_and_Shipwreck/minigrid_env_logs/openaigym.video.14.49043.video000013.mp4\n",
      "{'Cost': array([ 9.        , 14.56545669]), 'Observation': ['floor_green_open', 'floor_green_open', 'agent_blue_right'], 'SysActions': [('south',), ('south',), ('south', 'south'), ('east',), ('east',), ('east',)], 'EnvActions': [(('south',),), (('south',),), (('south',),), (('south',),), (('west',),)], 'SysPlay': array([[0., 0., 0., 0., 0., 0., 0.],\n",
      "       [0., 1., 1., 1., 0., 1., 0.],\n",
      "       [0., 0., 0., 0., 0., 1., 0.],\n",
      "       [0., 0., 0., 0., 0., 1., 0.],\n",
      "       [0., 0., 0., 0., 0., 1., 0.],\n",
      "       [0., 0., 0., 0., 0., 0., 0.],\n",
      "       [0., 0., 0., 0., 0., 0., 0.]])}\n",
      "Maximum Costs [ 9.         14.56545669]\n",
      "Observation {('floor_green_open', 'floor_green_open', 'agent_blue_right'): 1}\n",
      "None\n",
      "----------------------------------------------------------------------------------------------------\n",
      "Evaluate for a pareto point [11.         10.06564702]\n",
      "----------------------------------------------------------------------------------------------------\n",
      "/Users/kandai/Documents/projects/research/regret_synthesis_toolbox/examples/Fish_and_Shipwreck/minigrid_env_logs/openaigym.video.15.49043.video000014.mp4\n",
      "{'Cost': array([11.        , 10.06564702]), 'Observation': ['floor_green_open', 'floor_green_open', 'agent_blue_right'], 'SysActions': [('south', 'south'), ('south', 'south'), ('north',), ('north',), ('east',)], 'EnvActions': [(('south',),), (('south',),), (('west',),), (('west',),), (('west',),)], 'SysPlay': array([[0., 0., 0., 0., 0., 0., 0.],\n",
      "       [0., 1., 0., 2., 1., 1., 0.],\n",
      "       [0., 0., 0., 1., 0., 0., 0.],\n",
      "       [0., 0., 0., 0., 0., 0., 0.],\n",
      "       [0., 0., 0., 0., 0., 0., 0.],\n",
      "       [0., 0., 0., 0., 0., 0., 0.],\n",
      "       [0., 0., 0., 0., 0., 0., 0.]])}\n",
      "Maximum Costs [11.         10.06564702]\n",
      "Observation {('floor_green_open', 'floor_green_open', 'agent_blue_right'): 1}\n",
      "None\n",
      "----------------------------------------------------------------------------------------------------\n",
      "Evaluate for a pareto point [ 8.         14.86911571]\n",
      "----------------------------------------------------------------------------------------------------\n",
      "/Users/kandai/Documents/projects/research/regret_synthesis_toolbox/examples/Fish_and_Shipwreck/minigrid_env_logs/openaigym.video.16.49043.video000015.mp4\n",
      "{'Cost': array([ 8.        , 14.86911571]), 'Observation': ['agent_blue_right', 'floor_green_open'], 'SysActions': [('east',), ('east',), ('south',), ('south',), ('south',), ('south',), ('west',), ('west',)], 'EnvActions': [(('west',),), (('west',),), (('north',),), (('north',),), (('north',),), (('north',),), (('north',),)], 'SysPlay': array([[0., 0., 0., 0., 0., 0., 0.],\n",
      "       [0., 1., 0., 0., 0., 1., 0.],\n",
      "       [0., 1., 0., 0., 0., 1., 0.],\n",
      "       [0., 1., 1., 1., 1., 1., 0.],\n",
      "       [0., 0., 0., 0., 0., 0., 0.],\n",
      "       [0., 0., 0., 0., 0., 0., 0.],\n",
      "       [0., 0., 0., 0., 0., 0., 0.]])}\n",
      "Maximum Costs [ 8.         14.86911571]\n",
      "Observation {('agent_blue_right', 'floor_green_open'): 1}\n",
      "None\n",
      "----------------------------------------------------------------------------------------------------\n",
      "Evaluate for a pareto point [16.          9.85492599]\n",
      "----------------------------------------------------------------------------------------------------\n",
      "/Users/kandai/Documents/projects/research/regret_synthesis_toolbox/examples/Fish_and_Shipwreck/minigrid_env_logs/openaigym.video.17.49043.video000016.mp4\n",
      "{'Cost': array([16.        ,  9.85492599]), 'Observation': ['floor_green_open', 'floor_green_open', 'agent_blue_right'], 'SysActions': [('south', 'south'), ('south', 'south'), ('north', 'north'), ('east', 'east')], 'EnvActions': [(('south',),), (('south',),), (('west',),), (('west',),)], 'SysPlay': array([[0., 0., 0., 0., 0., 0., 0.],\n",
      "       [0., 1., 0., 2., 0., 1., 0.],\n",
      "       [0., 0., 0., 0., 0., 0., 0.],\n",
      "       [0., 0., 0., 1., 0., 0., 0.],\n",
      "       [0., 0., 0., 0., 0., 0., 0.],\n",
      "       [0., 0., 0., 0., 0., 0., 0.],\n",
      "       [0., 0., 0., 0., 0., 0., 0.]])}\n",
      "Maximum Costs [16.          9.85492599]\n",
      "Observation {('floor_green_open', 'floor_green_open', 'agent_blue_right'): 1}\n",
      "None\n",
      "----------------------------------------------------------------------------------------------------\n",
      "Evaluate for a pareto point [ 6.         19.06526636]\n",
      "----------------------------------------------------------------------------------------------------\n",
      "/Users/kandai/Documents/projects/research/regret_synthesis_toolbox/examples/Fish_and_Shipwreck/minigrid_env_logs/openaigym.video.18.49043.video000017.mp4\n",
      "{'Cost': array([ 6.        , 19.06526636]), 'Observation': ['floor_green_open', 'floor_green_open', 'agent_blue_right'], 'SysActions': [('south',), ('south',), ('south',), ('south',), ('east',), ('east',)], 'EnvActions': [(('south',),), (('south',),), (('south',),), (('south',),), (('west',),), (('west',),)], 'SysPlay': array([[0., 0., 0., 0., 0., 0., 0.],\n",
      "       [0., 1., 1., 1., 1., 1., 0.],\n",
      "       [0., 0., 0., 0., 0., 1., 0.],\n",
      "       [0., 0., 0., 0., 0., 1., 0.],\n",
      "       [0., 0., 0., 0., 0., 0., 0.],\n",
      "       [0., 0., 0., 0., 0., 0., 0.],\n",
      "       [0., 0., 0., 0., 0., 0., 0.]])}\n",
      "Maximum Costs [ 6.         19.06526636]\n",
      "Observation {('floor_green_open', 'floor_green_open', 'agent_blue_right'): 1}\n",
      "None\n"
     ]
    }
   ],
   "source": [
    "iterations = 100\n",
    "iterations = 2\n",
    "\n",
    "\n",
    "for pp in cooperative_solver.get_pareto_points():\n",
    "        strategy = cooperative_solver.get_a_strategy_for(pp)\n",
    "\n",
    "        print('-'*100)\n",
    "        print(f\"Evaluate for a pareto point {pp}\")\n",
    "        print('-'*100)\n",
    "\n",
    "        sim = Simulator(env, game)\n",
    "        video_path = sim.run_turn_based_game(\n",
    "                sys_strategy=strategy,\n",
    "                render=False,\n",
    "                record_video=True,\n",
    "                adversarial=adversarial)\n",
    "        print(video_path)\n",
    "        print(sim.get_episodic_data())\n",
    "        print(sim.get_stats())\n"
   ]
  },
  {
   "cell_type": "code",
   "execution_count": null,
   "metadata": {},
   "outputs": [],
   "source": []
  },
  {
   "cell_type": "code",
   "execution_count": null,
   "metadata": {},
   "outputs": [],
   "source": []
  }
 ],
 "metadata": {
  "interpreter": {
   "hash": "205187ef9479737b1a3abc6a1cf975973bd7269e141ef6b92118c5b5e5152f10"
  },
  "kernelspec": {
   "display_name": "Python 3.8.5 64-bit (conda)",
   "name": "python3"
  },
  "language_info": {
   "codemirror_mode": {
    "name": "ipython",
    "version": 3
   },
   "file_extension": ".py",
   "mimetype": "text/x-python",
   "name": "python",
   "nbconvert_exporter": "python",
   "pygments_lexer": "ipython3",
   "version": "3.8.5"
  }
 },
 "nbformat": 4,
 "nbformat_minor": 2
}
